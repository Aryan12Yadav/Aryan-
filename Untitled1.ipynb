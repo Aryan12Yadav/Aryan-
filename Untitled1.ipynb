{
 "cells": [
  {
   "cell_type": "markdown",
   "id": "ff1f6063",
   "metadata": {},
   "source": [
    "# lecture 1, Assignment 1"
   ]
  },
  {
   "cell_type": "markdown",
   "id": "6b3845d9",
   "metadata": {},
   "source": [
    "### program 1 "
   ]
  },
  {
   "cell_type": "markdown",
   "id": "7178bced",
   "metadata": {},
   "source": [
    "Declare two variables, `x` and `y`, and assign them integer values.\n",
    "Swap the values of these variables without using any temporary\n",
    "variable "
   ]
  },
  {
   "cell_type": "code",
   "execution_count": 41,
   "id": "d0a40ecd-5712-4976-a399-aa53e1f2f0db",
   "metadata": {},
   "outputs": [
    {
     "name": "stdout",
     "output_type": "stream",
     "text": [
      "enter the number:89\n",
      "enter the number:0\n",
      "89 0\n",
      "swaping value of x and y is:  0 89\n"
     ]
    }
   ],
   "source": [
    "\n",
    "x = int(input('enter the number:'))\n",
    "y = int(input('enter the number:'))\n",
    "print(x,y)\n",
    "temp = x\n",
    "x = y\n",
    "y = temp\n",
    "print(\"swaping value of x and y is: \",x,y)"
   ]
  },
  {
   "cell_type": "code",
   "execution_count": null,
   "id": "87bb8af4",
   "metadata": {},
   "outputs": [],
   "source": []
  },
  {
   "cell_type": "markdown",
   "id": "085d51c2",
   "metadata": {},
   "source": [
    "###  program 2\n"
   ]
  },
  {
   "cell_type": "markdown",
   "id": "72f8b7c2",
   "metadata": {},
   "source": [
    ". Create a program that calculates the area of a rectangle. Take the\n",
    "length and width as inputs from the user and store them in variables.\n",
    "Calculate and display the area.\n"
   ]
  },
  {
   "cell_type": "code",
   "execution_count": 6,
   "id": "f8dc4492-fedb-4f32-809e-4bf89eb761b3",
   "metadata": {},
   "outputs": [
    {
     "name": "stdout",
     "output_type": "stream",
     "text": [
      "Enter the length:89\n",
      "Enter the width:65\n",
      "area of the rectangle is : 5785\n"
     ]
    }
   ],
   "source": [
    "l = int(input('Enter the length:'))\n",
    "b  = int(input('Enter the width:'))\n",
    "area = l*b\n",
    "print(\"area of the rectangle is :\",area)"
   ]
  },
  {
   "cell_type": "markdown",
   "id": "6bb97c81",
   "metadata": {},
   "source": [
    "### program 3"
   ]
  },
  {
   "cell_type": "markdown",
   "id": "17b81a1a",
   "metadata": {},
   "source": [
    " Write a Python program that converts temperature from Celsius to\n",
    "Fahrenheit. Take the temperature in Celsius as input, store it in a\n",
    "variable, convert it to Fahrenheit, and display the result.\n"
   ]
  },
  {
   "cell_type": "code",
   "execution_count": 11,
   "id": "5ba06485",
   "metadata": {},
   "outputs": [
    {
     "name": "stdout",
     "output_type": "stream",
     "text": [
      "Enter the temp6\n",
      "temperature in fehranheit is : 42.8\n"
     ]
    }
   ],
   "source": [
    "celcius = int(input('Enter the temp'))\n",
    "#F = (1.8C +32)\n",
    "F = (1.8*celcius)+32\n",
    "print(\"temperature in fehranheit is :\",F)"
   ]
  },
  {
   "cell_type": "markdown",
   "id": "3104d75f",
   "metadata": {},
   "source": [
    "# string Based"
   ]
  },
  {
   "cell_type": "markdown",
   "id": "25d902aa",
   "metadata": {},
   "source": [
    "###program 4"
   ]
  },
  {
   "cell_type": "markdown",
   "id": "d12808ca",
   "metadata": {},
   "source": [
    " Write a Python program that takes a string as input and prints the\n",
    "length of the string."
   ]
  },
  {
   "cell_type": "code",
   "execution_count": 15,
   "id": "f8624e2d",
   "metadata": {},
   "outputs": [
    {
     "name": "stdout",
     "output_type": "stream",
     "text": [
      "Hello mr Tang\n"
     ]
    },
    {
     "data": {
      "text/plain": [
       "13"
      ]
     },
     "execution_count": 15,
     "metadata": {},
     "output_type": "execute_result"
    }
   ],
   "source": [
    "name = str(input())\n",
    "len(name)"
   ]
  },
  {
   "cell_type": "markdown",
   "id": "07f9f812",
   "metadata": {},
   "source": [
    "### program 5"
   ]
  },
  {
   "cell_type": "markdown",
   "id": "5b0a292a",
   "metadata": {},
   "source": [
    "Create a program that takes a sentence from the user and counts the\n",
    "number of vowels (a, e, i, o, u) in the string."
   ]
  },
  {
   "cell_type": "code",
   "execution_count": 15,
   "id": "7bf21ba1",
   "metadata": {},
   "outputs": [
    {
     "name": "stdout",
     "output_type": "stream",
     "text": [
      "enter a sentence:My name is Aryan Yadav I went to Lucknow last night at nine pm  by the local train from kanpur to lucknow\n"
     ]
    },
    {
     "data": {
      "text/plain": [
       "10"
      ]
     },
     "execution_count": 15,
     "metadata": {},
     "output_type": "execute_result"
    }
   ],
   "source": [
    "s = str(input('enter a sentence:'))\n",
    "l=s.lower()\n",
    "l.coun\n",
    "t('a')\n",
    " "
   ]
  },
  {
   "cell_type": "code",
   "execution_count": 16,
   "id": "89a9bb90",
   "metadata": {},
   "outputs": [
    {
     "data": {
      "text/plain": [
       "4"
      ]
     },
     "execution_count": 16,
     "metadata": {},
     "output_type": "execute_result"
    }
   ],
   "source": [
    " l.count('e')"
   ]
  },
  {
   "cell_type": "code",
   "execution_count": 18,
   "id": "98abab12",
   "metadata": {},
   "outputs": [
    {
     "data": {
      "text/plain": [
       "5"
      ]
     },
     "execution_count": 18,
     "metadata": {},
     "output_type": "execute_result"
    }
   ],
   "source": [
    "l.count('i')"
   ]
  },
  {
   "cell_type": "code",
   "execution_count": 19,
   "id": "543fa86c",
   "metadata": {},
   "outputs": [
    {
     "data": {
      "text/plain": [
       "6"
      ]
     },
     "execution_count": 19,
     "metadata": {},
     "output_type": "execute_result"
    }
   ],
   "source": [
    "l.count('o')"
   ]
  },
  {
   "cell_type": "code",
   "execution_count": 21,
   "id": "e5598316",
   "metadata": {},
   "outputs": [
    {
     "data": {
      "text/plain": [
       "3"
      ]
     },
     "execution_count": 21,
     "metadata": {},
     "output_type": "execute_result"
    }
   ],
   "source": [
    "l.count('u')"
   ]
  },
  {
   "cell_type": "markdown",
   "id": "8b0ecfe0",
   "metadata": {},
   "source": [
    "### program 6"
   ]
  },
  {
   "cell_type": "markdown",
   "id": "2bb3bddc",
   "metadata": {},
   "source": [
    "Given a string, reverse the order of characters using string slicing and\n",
    "print the reversed string"
   ]
  },
  {
   "cell_type": "code",
   "execution_count": 36,
   "id": "7c2f978d",
   "metadata": {},
   "outputs": [
    {
     "name": "stdout",
     "output_type": "stream",
     "text": [
      "my name is mt tang\n"
     ]
    }
   ],
   "source": [
    "string = str(input())\n"
   ]
  },
  {
   "cell_type": "code",
   "execution_count": 37,
   "id": "77af5038",
   "metadata": {},
   "outputs": [
    {
     "data": {
      "text/plain": [
       "'gnat tm si eman ym'"
      ]
     },
     "execution_count": 37,
     "metadata": {},
     "output_type": "execute_result"
    }
   ],
   "source": [
    "string[::-1]"
   ]
  },
  {
   "cell_type": "markdown",
   "id": "c0ebd68b",
   "metadata": {},
   "source": [
    "### program 7"
   ]
  },
  {
   "cell_type": "markdown",
   "id": "655ada4b",
   "metadata": {},
   "source": [
    "Write a program that takes a string as input and checks if it is a\n",
    "palindrome (reads the same forwards and backwards)."
   ]
  },
  {
   "cell_type": "code",
   "execution_count": 31,
   "id": "aed80e48",
   "metadata": {},
   "outputs": [
    {
     "name": "stdout",
     "output_type": "stream",
     "text": [
      "Enter the input:amama\n",
      "it is a palindrone\n"
     ]
    }
   ],
   "source": [
    "p=str(input(\"Enter the input:\"))\n",
    "if p==p[::-1]:\n",
    "            print(\"it is a palindrone\")\n",
    "else:\n",
    "       print(\"it is not palindrone\")"
   ]
  },
  {
   "cell_type": "markdown",
   "id": "82b22f76",
   "metadata": {},
   "source": [
    "### program 8"
   ]
  },
  {
   "cell_type": "markdown",
   "id": "4a793188",
   "metadata": {},
   "source": [
    "  Create a program that takes a string as input and removes all the\n",
    "spaces from it. Print the modified string without spaces."
   ]
  },
  {
   "cell_type": "code",
   "execution_count": 32,
   "id": "37803d3a",
   "metadata": {},
   "outputs": [
    {
     "name": "stdout",
     "output_type": "stream",
     "text": [
      "Enter the inputI am data science engineer\n"
     ]
    },
    {
     "data": {
      "text/plain": [
       "'Iamdatascienceengineer'"
      ]
     },
     "execution_count": 32,
     "metadata": {},
     "output_type": "execute_result"
    }
   ],
   "source": [
    "inp1= str(input(\"Enter the input\"))\n",
    "inp2 = inp1.replace(\" \",\"\")\n",
    "inp2"
   ]
  },
  {
   "cell_type": "code",
   "execution_count": null,
   "id": "72c0c447",
   "metadata": {},
   "outputs": [],
   "source": []
  },
  {
   "cell_type": "code",
   "execution_count": null,
   "id": "fef23f6a",
   "metadata": {},
   "outputs": [],
   "source": []
  }
 ],
 "metadata": {
  "kernelspec": {
   "display_name": "Python 3 (ipykernel)",
   "language": "python",
   "name": "python3"
  },
  "language_info": {
   "codemirror_mode": {
    "name": "ipython",
    "version": 3
   },
   "file_extension": ".py",
   "mimetype": "text/x-python",
   "name": "python",
   "nbconvert_exporter": "python",
   "pygments_lexer": "ipython3",
   "version": "3.11.5"
  }
 },
 "nbformat": 4,
 "nbformat_minor": 5
}
